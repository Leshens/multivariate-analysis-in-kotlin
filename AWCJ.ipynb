{
 "cells": [
  {
   "metadata": {},
   "cell_type": "code",
   "source": "",
   "outputs": [],
   "execution_count": null
  },
  {
   "cell_type": "code",
   "metadata": {
    "collapsed": true
   },
   "source": [
    "// Ensures that the latest available library versions are used\n",
    "%useLatestDescriptors\n",
    "// Imports the Kotlin DataFrame library\n",
    "%use dataframe\n",
    "// Imports the Kotlin Kandy library\n",
    "%use kandy"
   ],
   "outputs": [],
   "execution_count": null
  },
  {
   "metadata": {},
   "cell_type": "code",
   "source": [
    "// Creates a DataFrame by importing data from the \"netflix_titles.csv\" file.\n",
    "val rawDf = DataFrame.read(\"BAZA POLITYCY 2025.xlsx\")\n",
    "\n",
    "// Displays the raw DataFrame data\n",
    "rawDf"
   ],
   "outputs": [],
   "execution_count": null
  },
  {
   "metadata": {},
   "cell_type": "code",
   "source": [
    "// Select \"tusk_uczciwy\" columns\n",
    "val politycy = arrayOf(\"Tusk\", \"Trzaskowski\", \"Hołownia\", \"Mentzen\", \"Kaczyński\",\"Kośniak Kamysz\", \"Nawrocki\",\"Zandberg\",\"Idealny\")\n",
    "\n",
    "val uczciwyData = dataFrameOf(\n",
    "    \"Tusk\" to rawDf.tusk_uczciwy,\n",
    "    \"Trzaskowski\" to rawDf.trza_uczciwy,\n",
    "    \"Hołownia\" to rawDf.hoło_uczciwy,\n",
    "    \"Mentzen\" to rawDf.ment_uczciwy,\n",
    "    \"Kaczyński\" to rawDf.kacz_uczciwy,\n",
    "    \"Kośniak Kamysz\" to rawDf.kosi_uczciwy,\n",
    "    \"Nawrocki\" to rawDf.nawr_uczciwy,\n",
    "    \"Zandberg\" to rawDf.zand_uczciwy,\n",
    "    \"Idealny\" to rawDf.idea_uczciwy\n",
    ").gather(*politycy).into(\"Politycy\", \"Wartość\")\n",
    "uczciwyData\n"
   ],
   "outputs": [],
   "execution_count": null
  },
  {
   "metadata": {},
   "cell_type": "code",
   "source": [
    "uczciwyData.boxplot(\"Politycy\", \"Wartość\").configure {\n",
    "    coordinatesTransformation = CoordinatesTransformation.cartesianFlipped()\n",
    "    // BoxplotLayer + PlotBuilder\n",
    "    // can't add new layer but can configure `boxes` and `outliers`\n",
    "    boxes {\n",
    "        alpha = 0.7\n",
    "        fillColor(Stat.middle) { scale = continuous(Color.RED..Color.GREEN) }\n",
    "    }\n",
    "    outliers {\n",
    "        color(Stat.x)\n",
    "        // jittered outliers\n",
    "        position = Position.jitter(0.1, 0.0)\n",
    "    }\n",
    "    // can configure general plot adjustments\n",
    "    layout {\n",
    "        title = \"Uczciwość polityków\"\n",
    "        size = 600 to 350\n",
    "    }\n",
    "}\n"
   ],
   "outputs": [],
   "execution_count": null
  },
  {
   "metadata": {},
   "cell_type": "code",
   "source": "",
   "outputs": [],
   "execution_count": null
  },
  {
   "metadata": {},
   "cell_type": "code",
   "source": [
    "val dfFiltered = dfSelected.filter { tusk_uczciwy > 0 }\n",
    "dfFiltered"
   ],
   "outputs": [],
   "execution_count": null
  },
  {
   "metadata": {},
   "cell_type": "code",
   "source": [
    "dfFiltered.plot {\n",
    "    points {\n",
    "        x(tusk_uczciwy)\n",
    "        y(`Lp `)\n",
    "        // Sets the size of the points to 4.5\n",
    "        size = 4.5\n",
    "        color(`Lp `) {\n",
    "            scale = continuous(Color.RED..Color.GREEN)\n",
    "        }\n",
    "    }\n",
    "}"
   ],
   "outputs": [],
   "execution_count": null
  },
  {
   "metadata": {},
   "cell_type": "code",
   "source": "",
   "outputs": [],
   "execution_count": null
  }
 ],
 "metadata": {
  "kernelspec": {
   "display_name": "Kotlin",
   "language": "kotlin",
   "name": "kotlin"
  },
  "language_info": {
   "name": "kotlin",
   "version": "1.9.23",
   "mimetype": "text/x-kotlin",
   "file_extension": ".kt",
   "pygments_lexer": "kotlin",
   "codemirror_mode": "text/x-kotlin",
   "nbconvert_exporter": ""
  },
  "ktnbPluginMetadata": {
   "projectLibraries": true
  }
 },
 "nbformat": 4,
 "nbformat_minor": 0
}
